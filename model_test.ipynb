{
 "cells": [
  {
   "cell_type": "code",
   "execution_count": 4,
   "id": "e7907564",
   "metadata": {},
   "outputs": [],
   "source": [
    "##IMOPRTS\n",
    "\n",
    "from enum import Enum\n",
    "import gc\n",
    "import numpy as np\n",
    "import torch\n",
    "\n",
    "\n",
    "#diffusers\n",
    "from diffusers import StableDiffusionInstructPix2PixPipeline, StableDiffusionControlNetPipeline, ControlNetModel, UNet2DConditionModel\n",
    "from diffusers.schedulers import EulerAncestralDiscreteScheduler, DDIMScheduler\n",
    "\n",
    "\n",
    "\n",
    "#some more\n",
    "from diffusers import StableDiffusionPipeline\n",
    "import torch\n",
    "from dataclasses import dataclass\n",
    "from typing import Callable, List, Optional, Union\n",
    "import numpy as np\n",
    "from diffusers.utils import deprecate, logging, BaseOutput\n",
    "from einops import rearrange, repeat\n",
    "from torch.nn.functional import grid_sample\n",
    "import torchvision.transforms as T\n",
    "from transformers import CLIPFeatureExtractor, CLIPTextModel, CLIPTokenizer\n",
    "from diffusers.models import AutoencoderKL, UNet2DConditionModel\n",
    "from diffusers.schedulers import KarrasDiffusionSchedulers\n",
    "from diffusers.pipelines.stable_diffusion import StableDiffusionSafetyChecker\n",
    "import PIL\n",
    "from PIL import Image\n",
    "from kornia.morphology import dilation"
   ]
  },
  {
   "cell_type": "code",
   "execution_count": 5,
   "id": "bce3a325",
   "metadata": {},
   "outputs": [],
   "source": [
    "PROMPT=\"man is drinking orange juice on a wooden floor\""
   ]
  },
  {
   "cell_type": "code",
   "execution_count": 9,
   "id": "fcbc9c7e",
   "metadata": {},
   "outputs": [],
   "source": [
    "\n",
    "#any model based of stable diffusion pipeline can be substituted here\n",
    "\n",
    "#MODEL_NAME=\"dreamlike-art/dreamlike-photoreal-2.0\"\n",
    "MODEL_NAME='stabilityai/stable-diffusion-2'"
   ]
  },
  {
   "cell_type": "code",
   "execution_count": 10,
   "id": "68af7e58",
   "metadata": {},
   "outputs": [],
   "source": [
    "#model parameters\n",
    "motion_field_strength_x=12\n",
    "motion_field_strength_y=12\n",
    "\n",
    "t0=44\n",
    "t1=47\n",
    "\n",
    "#these are negative prompts\n",
    "n_prompt=\"\"\n",
    "chunk_size=8\n",
    "video_length=8\n",
    "\n",
    "watermark=\"Picsart AI Research\"\n",
    "\n",
    "merging_ratio=0.0\n",
    "seed=0\n",
    "resolution=512\n",
    "fps=2\n",
    "use_cf_attn=True\n",
    "use_motion_field=True\n",
    "smooth_bg=False\n",
    "smooth_bg_strength=0.4\n",
    "path=None"
   ]
  },
  {
   "cell_type": "code",
   "execution_count": 13,
   "id": "232e25ab",
   "metadata": {},
   "outputs": [],
   "source": [
    "#some extra prompts for prompt engineering \n",
    "added_prompt = \"high quality, HD, 8K, trending on artstation, high focus, dramatic lighting\"\n",
    "negative_prompts = 'longbody, lowres, bad anatomy, bad hands, missing fingers, extra digit, fewer difits, cropped, worst quality, low quality, deformed body, bloated, ugly, unrealistic'"
   ]
  },
  {
   "cell_type": "code",
   "execution_count": null,
   "id": "a78308eb",
   "metadata": {},
   "outputs": [],
   "source": [
    "#basic prompt engineering \n",
    "prompt=PROMPT.rstrip()\n",
    "\n",
    "#removing periods and commas at the end of sentences\n",
    "if len(prompt)>0 and (prompt[-1] == \",\" or prompt[-1] == \".\"):\n",
    "    prompt = prompt.rstrip()[:-1]\n",
    "\n",
    "prompt = prompt.rstrip()\n",
    "\n",
    "    \n"
   ]
  },
  {
   "cell_type": "code",
   "execution_count": null,
   "id": "1fc7870b",
   "metadata": {},
   "outputs": [],
   "source": [
    "# if self.model_type != ModelType.Text2Video or model_name != self.model_name:\n",
    "#             print(\"Model update\")\n",
    "#             unet = UNet2DConditionModel.from_pretrained(\n",
    "#                 model_name, subfolder=\"unet\")\n",
    "#             self.set_model(ModelType.Text2Video,\n",
    "#                            model_id=model_name, unet=unet)\n",
    "#             self.pipe.scheduler = DDIMScheduler.from_config(\n",
    "#                 self.pipe.scheduler.config)\n",
    "#             if use_cf_attn:\n",
    "#                 self.pipe.unet.set_attn_processor(\n",
    "#                     processor=self.text2video_attn_proc)\n",
    "#         self.generator.manual_seed(seed)"
   ]
  },
  {
   "cell_type": "code",
   "execution_count": 12,
   "id": "c6f63e2a",
   "metadata": {},
   "outputs": [],
   "source": [
    "unet = unet = UNet2DConditionModel.from_pretrained(\n",
    "                MODEL_NAME, subfolder=\"unet\")\n",
    "\n"
   ]
  },
  {
   "cell_type": "code",
   "execution_count": null,
   "id": "a9932477",
   "metadata": {},
   "outputs": [],
   "source": []
  }
 ],
 "metadata": {
  "kernelspec": {
   "display_name": "Python 3 (ipykernel)",
   "language": "python",
   "name": "python3"
  },
  "language_info": {
   "codemirror_mode": {
    "name": "ipython",
    "version": 3
   },
   "file_extension": ".py",
   "mimetype": "text/x-python",
   "name": "python",
   "nbconvert_exporter": "python",
   "pygments_lexer": "ipython3",
   "version": "3.11.4"
  }
 },
 "nbformat": 4,
 "nbformat_minor": 5
}
